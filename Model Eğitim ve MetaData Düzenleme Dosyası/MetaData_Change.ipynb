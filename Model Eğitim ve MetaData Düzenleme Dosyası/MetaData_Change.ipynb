{
  "nbformat": 4,
  "nbformat_minor": 0,
  "metadata": {
    "colab": {
      "provenance": [],
      "gpuType": "T4"
    },
    "kernelspec": {
      "name": "python3",
      "display_name": "Python 3"
    },
    "language_info": {
      "name": "python"
    },
    "accelerator": "GPU"
  },
  "cells": [
    {
      "cell_type": "code",
      "execution_count": null,
      "metadata": {
        "id": "IH81uOBpQE-K",
        "colab": {
          "base_uri": "https://localhost:8080/"
        },
        "outputId": "46591b74-7845-4af6-dcfb-90652b73792f"
      },
      "outputs": [
        {
          "output_type": "stream",
          "name": "stdout",
          "text": [
            "/\n",
            "Mounted at /content/gdrive\n",
            " 14556F95-CB61-4675-9BD1-FA173548BB1F.xml  'Untitled Diagram (2).drawio'\n",
            "'Colab Notebooks'\t\t\t   'Untitled Diagram (3).drawio'\n",
            " DatasetImageClassification\t\t   'Untitled Diagram (4).drawio'\n",
            " deviceId.gdoc\t\t\t\t   'Untitled Diagram (5).drawio'\n",
            " metadata\t\t\t\t   'Untitled Diagram (6).drawio'\n",
            " my_model\t\t\t\t   'Untitled Diagram (7).drawio'\n",
            " TrackView\t\t\t\t   'Untitled Diagram (8).drawio'\n",
            "'Untitled Diagram (1).drawio'\t\t   'Untitled Diagram.drawio'\n",
            "/content/gdrive/My Drive/metadata\n"
          ]
        }
      ],
      "source": [
        "%cd ..\n",
        "from google.colab import drive\n",
        "drive.mount('/content/gdrive')\n",
        "\n",
        "!ln -s /content/gdrive/My\\ Drive/ /mydrive\n",
        "\n",
        "!ls /mydrive\n",
        "\n",
        "%cd /mydrive/metadata"
      ]
    },
    {
      "cell_type": "code",
      "source": [
        "!pip install tflite-support"
      ],
      "metadata": {
        "colab": {
          "base_uri": "https://localhost:8080/"
        },
        "id": "p4ahDItNSbkG",
        "outputId": "41a3ed18-e988-4bd9-e639-345c4a303ec0"
      },
      "execution_count": null,
      "outputs": [
        {
          "output_type": "stream",
          "name": "stdout",
          "text": [
            "Looking in indexes: https://pypi.org/simple, https://us-python.pkg.dev/colab-wheels/public/simple/\n",
            "Collecting tflite-support\n",
            "  Downloading tflite-support-0.1.0a1.tar.gz (390 kB)\n",
            "\u001b[2K     \u001b[90m━━━━━━━━━━━━━━━━━━━━━━━━━━━━━━━━━━━━━━━\u001b[0m \u001b[32m390.3/390.3 kB\u001b[0m \u001b[31m9.0 MB/s\u001b[0m eta \u001b[36m0:00:00\u001b[0m\n",
            "\u001b[?25h  Preparing metadata (setup.py) ... \u001b[?25l\u001b[?25hdone\n",
            "Collecting pybind11>=2.4 (from tflite-support)\n",
            "  Using cached pybind11-2.10.4-py3-none-any.whl (222 kB)\n",
            "Requirement already satisfied: absl-py>=0.7.0 in /usr/local/lib/python3.10/dist-packages (from tflite-support) (1.4.0)\n",
            "Requirement already satisfied: numpy in /usr/local/lib/python3.10/dist-packages (from tflite-support) (1.22.4)\n",
            "Building wheels for collected packages: tflite-support\n",
            "  Building wheel for tflite-support (setup.py) ... \u001b[?25l\u001b[?25hdone\n",
            "  Created wheel for tflite-support: filename=tflite_support-0.1.0a1-cp310-cp310-linux_x86_64.whl size=5942368 sha256=c9ef20fcff636ba1857d017d075ea204efa236e8fce39b7169d1ea798272c1f8\n",
            "  Stored in directory: /root/.cache/pip/wheels/71/5c/da/9e5e661ec26e03ee57e69428d40fffbefe3c0aff649c55776d\n",
            "Successfully built tflite-support\n",
            "Installing collected packages: pybind11, tflite-support\n",
            "Successfully installed pybind11-2.10.4 tflite-support-0.1.0a1\n"
          ]
        }
      ]
    },
    {
      "cell_type": "code",
      "source": [
        "!python metadata_writer_for_image_classifier.py \\\n",
        "    --model_file=/mydrive/metadata/sign_quant.tflite \\\n",
        "    --label_file=/mydrive/metadata/labels.txt \\\n",
        "    --export_directory=/mydrive/metadata/model_with_metadata"
      ],
      "metadata": {
        "colab": {
          "base_uri": "https://localhost:8080/"
        },
        "id": "XIKMF4bJSxzs",
        "outputId": "40e73bff-5321-4e2d-9334-62b3b04686ac"
      },
      "execution_count": null,
      "outputs": [
        {
          "output_type": "stream",
          "name": "stdout",
          "text": [
            "2023-06-09 22:36:20.132442: I tensorflow/core/platform/cpu_feature_guard.cc:182] This TensorFlow binary is optimized to use available CPU instructions in performance-critical operations.\n",
            "To enable the following instructions: AVX2 FMA, in other operations, rebuild TensorFlow with the appropriate compiler flags.\n",
            "2023-06-09 22:36:21.434473: W tensorflow/compiler/tf2tensorrt/utils/py_utils.cc:38] TF-TRT Warning: Could not find TensorRT\n",
            "2023-06-09 22:36:23.259726: I tensorflow/compiler/xla/stream_executor/cuda/cuda_gpu_executor.cc:996] successful NUMA node read from SysFS had negative value (-1), but there must be at least one NUMA node, so returning NUMA node zero. See more at https://github.com/torvalds/linux/blob/v6.0/Documentation/ABI/testing/sysfs-bus-pci#L344-L355\n",
            "2023-06-09 22:36:23.290999: I tensorflow/compiler/xla/stream_executor/cuda/cuda_gpu_executor.cc:996] successful NUMA node read from SysFS had negative value (-1), but there must be at least one NUMA node, so returning NUMA node zero. See more at https://github.com/torvalds/linux/blob/v6.0/Documentation/ABI/testing/sysfs-bus-pci#L344-L355\n",
            "2023-06-09 22:36:23.291293: I tensorflow/compiler/xla/stream_executor/cuda/cuda_gpu_executor.cc:996] successful NUMA node read from SysFS had negative value (-1), but there must be at least one NUMA node, so returning NUMA node zero. See more at https://github.com/torvalds/linux/blob/v6.0/Documentation/ABI/testing/sysfs-bus-pci#L344-L355\n",
            "Finished populating metadata and associated file to the model:\n",
            "/mydrive/metadata/sign_quant.tflite\n",
            "The metadata json file has been saved to:\n",
            "/mydrive/metadata/model_with_metadata/sign_quant.json\n",
            "The associated file that has been been packed to the model is:\n",
            "['labels.txt']\n"
          ]
        }
      ]
    }
  ]
}